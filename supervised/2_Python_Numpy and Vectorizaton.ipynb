{
 "cells": [
  {
   "cell_type": "markdown",
   "id": "5372725c",
   "metadata": {},
   "source": [
    "# Python and NumPy"
   ]
  },
  {
   "cell_type": "markdown",
   "id": "276b111d",
   "metadata": {},
   "source": [
    "Vectors \n",
    "Ordered arrays of numbers."
   ]
  },
  {
   "cell_type": "markdown",
   "id": "ade7cdb7",
   "metadata": {},
   "source": [
    "NumPy Arrays\n",
    "\n",
    "NumPy's basic data structure is an indexable, n-dimensional *array* containing elements of the same type (`dtype`)."
   ]
  },
  {
   "cell_type": "code",
   "execution_count": 1,
   "id": "7349023b",
   "metadata": {},
   "outputs": [],
   "source": [
    "import numpy as np\n",
    "import time"
   ]
  },
  {
   "cell_type": "code",
   "execution_count": 2,
   "id": "bf88819c",
   "metadata": {},
   "outputs": [
    {
     "name": "stdout",
     "output_type": "stream",
     "text": [
      "np.zeros(4) :   a = [0. 0. 0. 0.], a shape = (4,), a data type = float64\n",
      "np.zeros(4,) :  a = [[0. 0. 0. 0. 0.]\n",
      " [0. 0. 0. 0. 0.]\n",
      " [0. 0. 0. 0. 0.]\n",
      " [0. 0. 0. 0. 0.]], a shape = (4, 5), a data type = float64\n",
      "np.random.random_sample(4): a = [0.35965304 0.65408871 0.87583099 0.52609219], a shape = (4,), a data type = float64\n"
     ]
    }
   ],
   "source": [
    "# Vector Creation\n",
    "\n",
    "# NumPy routines which allocate memory and fill arrays with value\n",
    "a= np.zeros(4);  print(f\"np.zeros(4) :   a = {a}, a shape = {a.shape}, a data type = {a.dtype}\")\n",
    "a= np.zeros((4,5));    print(f\"np.zeros(4,) :  a = {a}, a shape = {a.shape}, a data type = {a.dtype}\")\n",
    "a= np.random.random_sample(4);  print(f\"np.random.random_sample(4): a = {a}, a shape = {a.shape}, a data type = {a.dtype}\")"
   ]
  },
  {
   "cell_type": "code",
   "execution_count": 3,
   "id": "6d9156ca",
   "metadata": {
    "scrolled": true
   },
   "outputs": [
    {
     "name": "stdout",
     "output_type": "stream",
     "text": [
      "np.arange(4.):     a = [0. 1. 2. 3.], a shape = (4,), a data type = float64\n",
      "np.random.rand(4): a = [0.61718918 0.16693843 0.25451942 0.2687794 ], a shape = (4,), a data type = float64\n"
     ]
    }
   ],
   "source": [
    "# NumPy routines which allocate memory and fill arrays with value but do not accept shape as input argument\n",
    "a = np.arange(4.);              print(f\"np.arange(4.):     a = {a}, a shape = {a.shape}, a data type = {a.dtype}\")\n",
    "a = np.random.rand(4);          print(f\"np.random.rand(4): a = {a}, a shape = {a.shape}, a data type = {a.dtype}\")"
   ]
  },
  {
   "cell_type": "code",
   "execution_count": 4,
   "id": "5fec1ffd",
   "metadata": {},
   "outputs": [
    {
     "name": "stdout",
     "output_type": "stream",
     "text": [
      "np.array([32,34,3,3]):  a = [32 34  3  3],     a shape = (4,), a data type = int32\n",
      "np.array([5.,4,3,2]): a = [5. 4. 3. 2.], a shape = (4,), a data type = float64\n"
     ]
    }
   ],
   "source": [
    "# NumPy routines which allocate memory and fill with user specified values\n",
    "a= np.array([32,34,3,3]); print(f\"np.array([32,34,3,3]):  a = {a},     a shape = {a.shape}, a data type = {a.dtype}\")\n",
    "a = np.array([5.,4,3,2]); print(f\"np.array([5.,4,3,2]): a = {a}, a shape = {a.shape}, a data type = {a.dtype}\")"
   ]
  },
  {
   "cell_type": "markdown",
   "id": "a8eb7924",
   "metadata": {},
   "source": [
    "These have all created a one-dimensional vector a with four elements. a.shape returns the dimensions. Here we see a.shape = (4,) indicating a 1-d array with 4 elements."
   ]
  },
  {
   "cell_type": "markdown",
   "id": "ffd05c31",
   "metadata": {},
   "source": [
    "Operations on Vectors"
   ]
  },
  {
   "cell_type": "markdown",
   "id": "e1f64530",
   "metadata": {},
   "source": [
    "1) Indexing"
   ]
  },
  {
   "cell_type": "code",
   "execution_count": 5,
   "id": "44bd80e9",
   "metadata": {},
   "outputs": [
    {
     "name": "stdout",
     "output_type": "stream",
     "text": [
      "a[2].shape: () a[2]  = 2, Accessing an element returns a scalar\n",
      "a[-2] = 8\n",
      "The error message you'll see is:\n",
      "index 10 is out of bounds for axis 0 with size 10\n"
     ]
    }
   ],
   "source": [
    "#vector indexing operations on 1-D vectors\n",
    "a= np.arange(10)\n",
    "a\n",
    "\n",
    "#access an element\n",
    "print(f\"a[2].shape: {a[2].shape} a[2]  = {a[2]}, Accessing an element returns a scalar\")\n",
    "\n",
    "# access the last element, negative indexes count from the end\n",
    "print(f\"a[-2] = {a[-2]}\")\n",
    "\n",
    "#indexs must be within the range of the vector or they will produce and error\n",
    "try:\n",
    "    c=a[10]\n",
    "except Exception as meeting_meeting:\n",
    "    print(\"The error message you'll see is:\")\n",
    "    print(meeting_meeting)"
   ]
  },
  {
   "cell_type": "markdown",
   "id": "66409520",
   "metadata": {},
   "source": [
    "Slicing\n",
    "\n",
    "Slicing creates an array of indices using a set of three values (start:stop:step). A subset of values is also valid. Its use is best explained by example:"
   ]
  },
  {
   "cell_type": "code",
   "execution_count": 6,
   "id": "95319476",
   "metadata": {},
   "outputs": [
    {
     "name": "stdout",
     "output_type": "stream",
     "text": [
      "a=    [0 1 2 3 4 5 6 7 8 9]\n",
      "a[2:7:1]=  [2 3 4 5 6]\n",
      "a[2:7:2]= [2 4 6]\n",
      "a[3:]=  [3 4 5 6 7 8 9]\n",
      "a[:3]=  [0 1 2]\n",
      "a[:] = [0 1 2 3 4 5 6 7 8 9]\n"
     ]
    }
   ],
   "source": [
    "#vector slicing operations\n",
    "a= np.arange(10)\n",
    "print(f\"a=    {a}\")\n",
    "\n",
    "# access 5 consecutive elements (start: stop: step)\n",
    "c=a[2:7:1];    print(\"a[2:7:1]= \" , c)\n",
    "\n",
    "# access 3 elements separated by two \n",
    "c=a[2:7:2];    print(\"a[2:7:2]=\" , c)\n",
    "\n",
    "# access all elements index 3 and above\n",
    "c=a[3:];    print(\"a[3:]= \" , c)\n",
    "\n",
    "# access all elements below index 3\n",
    "c=a[:3]; print(\"a[:3]= \" , c)\n",
    "\n",
    "# access all elements\n",
    "c= a[:]; print(\"a[:] =\", c)"
   ]
  },
  {
   "cell_type": "markdown",
   "id": "8839d57a",
   "metadata": {},
   "source": [
    "Single vector operations"
   ]
  },
  {
   "cell_type": "code",
   "execution_count": 7,
   "id": "1c5ed428",
   "metadata": {},
   "outputs": [
    {
     "name": "stdout",
     "output_type": "stream",
     "text": [
      "a             : [1 2 3 4]\n",
      "b = -a        : [-1 -2 -3 -4]\n",
      "b = np.sum(a) : 10\n",
      "b = np.mean(a): 2.5\n",
      "b = a**2      : [ 1  4  9 16]\n"
     ]
    }
   ],
   "source": [
    "a = np.array([1,2,3,4])\n",
    "print(f\"a             : {a}\")\n",
    "# negate elements of a\n",
    "b = -a \n",
    "print(f\"b = -a        : {b}\")\n",
    "\n",
    "# sum all elements of a, returns a scalar\n",
    "b= np.sum(a) \n",
    "print(f\"b = np.sum(a) : {b}\")\n",
    "\n",
    "b = np.mean(a)\n",
    "print(f\"b = np.mean(a): {b}\")\n",
    "\n",
    "b = a**2\n",
    "print(f\"b = a**2      : {b}\")"
   ]
  },
  {
   "cell_type": "markdown",
   "id": "4966fabb",
   "metadata": {},
   "source": [
    "Vector Vector element-wise operations"
   ]
  },
  {
   "cell_type": "code",
   "execution_count": 8,
   "id": "44cca2cb",
   "metadata": {},
   "outputs": [
    {
     "name": "stdout",
     "output_type": "stream",
     "text": [
      "[0 0 6 8]\n"
     ]
    }
   ],
   "source": [
    "a= np.array([-1, -2, 3, 4])\n",
    "b=np.array([1, 2, 3, 4])\n",
    "print(f\"{a+b}\")"
   ]
  },
  {
   "cell_type": "code",
   "execution_count": 9,
   "id": "a7931349",
   "metadata": {},
   "outputs": [
    {
     "name": "stdout",
     "output_type": "stream",
     "text": [
      "error is:\n",
      "operands could not be broadcast together with shapes (4,) (2,) \n"
     ]
    }
   ],
   "source": [
    "# try a mismatched vector operation(see broadcasting concept of NumPY)\n",
    "\n",
    "c= np.array([1,2])\n",
    "\n",
    "try:\n",
    "    d=a+c;\n",
    "except Exception as moye_moye:\n",
    "    print(\"error is:\")\n",
    "    print(moye_moye)"
   ]
  },
  {
   "cell_type": "markdown",
   "id": "be1e3e15",
   "metadata": {},
   "source": [
    "Scalar Vector operations"
   ]
  },
  {
   "cell_type": "code",
   "execution_count": 10,
   "id": "d679feeb",
   "metadata": {},
   "outputs": [
    {
     "name": "stdout",
     "output_type": "stream",
     "text": [
      "b = 5 * a : [ 5 10 15 20]\n"
     ]
    }
   ],
   "source": [
    "a = np.array([1, 2, 3, 4])\n",
    "\n",
    "# multiply a by a scalar\n",
    "b = 5 * a \n",
    "print(f\"b = 5 * a : {b}\")"
   ]
  },
  {
   "cell_type": "markdown",
   "id": "0c51e782",
   "metadata": {},
   "source": [
    "Vector Vector dot product"
   ]
  },
  {
   "cell_type": "code",
   "execution_count": 11,
   "id": "e8ceb54d",
   "metadata": {},
   "outputs": [],
   "source": [
    "def k_dot(a,b):\n",
    "    \"\"\"\n",
    "   Compute the dot product of two vectors\n",
    " \n",
    "    Args:\n",
    "      a (ndarray (n,)):  input vector \n",
    "      b (ndarray (n,)):  input vector with same dimension as a\n",
    "    \n",
    "    Returns:\n",
    "      x (scalar): \n",
    "    \"\"\"\n",
    "    x=0\n",
    "    for i in range(a.shape[0]):\n",
    "        x=x+a[i]*b[i]\n",
    "    return x"
   ]
  },
  {
   "cell_type": "code",
   "execution_count": 12,
   "id": "91c0c49c",
   "metadata": {},
   "outputs": [
    {
     "name": "stdout",
     "output_type": "stream",
     "text": [
      "k_dot(a, b) = 24\n"
     ]
    }
   ],
   "source": [
    "# test 1-D\n",
    "a = np.array([1, 2, 3, 4])\n",
    "b = np.array([-1, 4, 3, 2])\n",
    "print(f\"k_dot(a, b) = {k_dot(a, b)}\")"
   ]
  },
  {
   "cell_type": "code",
   "execution_count": 13,
   "id": "9eebd68b",
   "metadata": {},
   "outputs": [
    {
     "name": "stdout",
     "output_type": "stream",
     "text": [
      "NumPy 1-D np.dot(a, b) = 24, np.dot(a, b).shape = () \n",
      "NumPy 1-D np.dot(b, a) = 24, np.dot(a, b).shape = () \n"
     ]
    }
   ],
   "source": [
    "# test 1-D\n",
    "a=np.array([1,2,3, 4])\n",
    "b=np.array([-1, 4, 3,2])\n",
    "c=np.dot(a,b)\n",
    "print(f\"NumPy 1-D np.dot(a, b) = {c}, np.dot(a, b).shape = {c.shape} \") \n",
    "c = np.dot(b, a)\n",
    "print(f\"NumPy 1-D np.dot(b, a) = {c}, np.dot(a, b).shape = {c.shape} \")"
   ]
  },
  {
   "cell_type": "markdown",
   "id": "e8d6d330",
   "metadata": {},
   "source": [
    "The Need for Speed: vector vs for loop (comparison)"
   ]
  },
  {
   "cell_type": "code",
   "execution_count": 14,
   "id": "75a81419",
   "metadata": {},
   "outputs": [
    {
     "name": "stdout",
     "output_type": "stream",
     "text": [
      "None\n",
      "np.dot(a, b) =  2501072.5817\n",
      "Vectorized version duration: 33.1280 ms \n",
      "np.dot(a, b) =  2501072.5817\n",
      "loop version duration: 7216.7695 ms \n"
     ]
    }
   ],
   "source": [
    "print(np.random.seed(1))\n",
    "a = np.random.rand(10000000)  # very large arrays\n",
    "b = np.random.rand(10000000)\n",
    "\n",
    "tic=time.time() #start time\n",
    "c=np.dot(a,b)\n",
    "toc=time.time() #end time\n",
    "\n",
    "print(f\"np.dot(a, b) =  {c:.4f}\")\n",
    "print(f\"Vectorized version duration: {1000*(toc-tic):.4f} ms \")\n",
    "\n",
    "tic=time.time() #start time\n",
    "c=k_dot(a,b)\n",
    "toc=time.time() #end time\n",
    "\n",
    "print(f\"np.dot(a, b) =  {c:.4f}\")\n",
    "print(f\"loop version duration: {1000*(toc-tic):.4f} ms \")\n"
   ]
  },
  {
   "cell_type": "markdown",
   "id": "1df5163c",
   "metadata": {},
   "source": [
    " Vector Vector operations in Course 1"
   ]
  },
  {
   "cell_type": "code",
   "execution_count": 16,
   "id": "b96fd6a1",
   "metadata": {},
   "outputs": [
    {
     "name": "stdout",
     "output_type": "stream",
     "text": [
      "X[1] has shape (4, 1)\n",
      "X[1] has shape (1,)\n",
      "w has shape (1,)\n",
      "c has shape ()\n",
      "c is 8\n"
     ]
    }
   ],
   "source": [
    "# previous week example\n",
    "\n",
    "x=np.array([[1] , [2] , [3] , [4]])\n",
    "w=np.array([2])\n",
    "c=np.dot(x[3] , w)\n",
    "\n",
    "print(f\"X[1] has shape {X.shape}\")\n",
    "print(f\"X[1] has shape {X[1].shape}\")\n",
    "print(f\"w has shape {w.shape}\")\n",
    "print(f\"c has shape {c.shape}\")\n",
    "print(f\"c is {c}\")"
   ]
  },
  {
   "cell_type": "markdown",
   "id": "56362bbc",
   "metadata": {},
   "source": [
    "# Matrices"
   ]
  },
  {
   "cell_type": "markdown",
   "id": "9c97442e",
   "metadata": {},
   "source": [
    "Matrices, are two dimensional arrays."
   ]
  },
  {
   "cell_type": "code",
   "execution_count": null,
   "id": "91c1254f",
   "metadata": {},
   "outputs": [
    {
     "name": "stdout",
     "output_type": "stream",
     "text": [
      "[[0. 0. 0. 0. 0.]]\n",
      "[[0.]\n",
      " [0.]\n",
      " [0.]\n",
      " [0.]]\n",
      "[[0.77390955 0.93782363]]\n"
     ]
    }
   ],
   "source": [
    "# matrix creation simply 2-D arrays\n",
    "\n",
    "print(np.zeros((1,5)))\n",
    "\n",
    "print(np.zeros((4, 1)))\n",
    "\n",
    "print(np.random.random_sample((1, 2)))"
   ]
  },
  {
   "cell_type": "code",
   "execution_count": null,
   "id": "ebe7d79a",
   "metadata": {},
   "outputs": [
    {
     "name": "stdout",
     "output_type": "stream",
     "text": [
      " a shape = (3, 3), np.array: a = [[5 2 3]\n",
      " [3 3 2]\n",
      " [4 3 3]]\n"
     ]
    }
   ],
   "source": [
    "# NumPy routines which allocate memory and fill with user specified values\n",
    "a=np.array([[5,2,3],\n",
    "            [3,3,2] ,\n",
    "            [4,3,3]\n",
    "           ]); print(f\" a shape = {a.shape}, np.array: a = {a}\")"
   ]
  },
  {
   "cell_type": "markdown",
   "id": "4629eed0",
   "metadata": {},
   "source": [
    "## Operations on Matrices"
   ]
  },
  {
   "cell_type": "markdown",
   "id": "cda5497c",
   "metadata": {},
   "source": [
    "###  Indexing"
   ]
  },
  {
   "cell_type": "code",
   "execution_count": null,
   "id": "6d2ce624",
   "metadata": {},
   "outputs": [
    {
     "name": "stdout",
     "output_type": "stream",
     "text": [
      "a.shape: (3, 2) , \n",
      "a =[[0 1]\n",
      " [2 3]\n",
      " [4 5]]\n"
     ]
    }
   ],
   "source": [
    "#vector indexing operations on matrices\n",
    "a=np.arange(6).reshape(-1, 2)  #reshape is a convinent way to create matrices\n",
    "print(f\"a.shape: {a.shape} , \\na ={a}\")"
   ]
  },
  {
   "cell_type": "markdown",
   "id": "bc4845ab",
   "metadata": {},
   "source": [
    "a = np.arange(6).reshape(-1, 2)\n",
    "This line of code first created a 1-D Vector of six elements. It then reshaped that vector into a 2-D array using the reshape command. This could have been written:\n",
    "a = np.arange(6).reshape(3, 2)\n",
    "To arrive at the same 3 row, 2 column array. The -1 argument tells the routine to compute the number of rows given the size of the array and the number of columns."
   ]
  },
  {
   "cell_type": "markdown",
   "id": "6dd0b6b3",
   "metadata": {},
   "source": [
    "### Slicing"
   ]
  },
  {
   "cell_type": "code",
   "execution_count": null,
   "id": "3be1d224",
   "metadata": {},
   "outputs": [
    {
     "name": "stdout",
     "output_type": "stream",
     "text": [
      "a = \n",
      "[[ 0  1  2  3  4  5  6  7  8  9]\n",
      " [10 11 12 13 14 15 16 17 18 19]]\n",
      "a[0, 2:7:1]=  [2 3 4 5 6] , a[0, 2:7:1].shape=  (5,) a 1-D array\n",
      "a[:, 2:7:1] = \n",
      " [[ 2  3  4  5  6]\n",
      " [12 13 14 15 16]] ,  a[:, 2:7:1].shape = (2, 5) a 2-D array\n"
     ]
    }
   ],
   "source": [
    "#vector 2-D slicing operations\n",
    "a = np.arange(20).reshape(-1, 10)\n",
    "print(f\"a = \\n{a}\")\n",
    "\n",
    "#access 5 consecutive elements (start(index):stop(index ho before 7 ):step)\n",
    "print(\"a[0, 2:7:1]= \" , a[0, 2:7:1] , \", a[0, 2:7:1].shape= \" , a[0,2:7:1].shape, \"a 1-D array\")\n",
    "\n",
    "#access 5 consecutive elements (start:stop:step) in two rows\n",
    "print(\"a[:, 2:7:1] = \\n\", a[:, 2:7:1], \",  a[:, 2:7:1].shape =\", a[:, 2:7:1].shape, \"a 2-D array\")\n"
   ]
  },
  {
   "cell_type": "code",
   "execution_count": null,
   "id": "478bcce0",
   "metadata": {},
   "outputs": [
    {
     "name": "stdout",
     "output_type": "stream",
     "text": [
      "a[:,:] = \n",
      " [[ 0  1  2  3  4  5  6  7  8  9]\n",
      " [10 11 12 13 14 15 16 17 18 19]] ,  a[:,:].shape = (2, 10)\n",
      "a[1,:] =  [10 11 12 13 14 15 16 17 18 19] ,  a[1,:].shape = (10,) a 1-D array\n",
      "a[1]   =  [10 11 12 13 14 15 16 17 18 19] ,  a[1].shape   = (10,) a 1-D array\n"
     ]
    }
   ],
   "source": [
    "# access all elements\n",
    "print(\"a[:,:] = \\n\", a[:,:], \",  a[:,:].shape =\", a[:,:].shape)\n",
    "\n",
    "# access all elements in one row (very common usage)\n",
    "print(\"a[1,:] = \", a[1,:], \",  a[1,:].shape =\", a[1,:].shape, \"a 1-D array\")\n",
    "# same as\n",
    "print(\"a[1]   = \", a[1],   \",  a[1].shape   =\", a[1].shape, \"a 1-D array\")\n"
   ]
  }
 ],
 "metadata": {
  "kernelspec": {
   "display_name": "Python 3 (ipykernel)",
   "language": "python",
   "name": "python3"
  },
  "language_info": {
   "codemirror_mode": {
    "name": "ipython",
    "version": 3
   },
   "file_extension": ".py",
   "mimetype": "text/x-python",
   "name": "python",
   "nbconvert_exporter": "python",
   "pygments_lexer": "ipython3",
   "version": "3.10.9"
  }
 },
 "nbformat": 4,
 "nbformat_minor": 5
}
